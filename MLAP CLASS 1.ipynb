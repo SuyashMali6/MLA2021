{
  "nbformat": 4,
  "nbformat_minor": 0,
  "metadata": {
    "colab": {
      "name": "Copy of Basic10082021.ipynb",
      "provenance": [],
      "collapsed_sections": [],
      "include_colab_link": true
    },
    "kernelspec": {
      "name": "python3",
      "display_name": "Python 3"
    }
  },
  "cells": [
    {
      "cell_type": "markdown",
      "metadata": {
        "id": "view-in-github",
        "colab_type": "text"
      },
      "source": [
        "<a href=\"https://colab.research.google.com/github/SuyashMali6/MLA2021/blob/main/MLAP%20CLASS%201.ipynb\" target=\"_parent\"><img src=\"https://colab.research.google.com/assets/colab-badge.svg\" alt=\"Open In Colab\"/></a>"
      ]
    },
    {
      "cell_type": "markdown",
      "metadata": {
        "id": "TiL6Cs5Fn-pm"
      },
      "source": [
        "**Basic Steps**\n"
      ]
    },
    {
      "cell_type": "code",
      "metadata": {
        "id": "qSFNCenCn2Ce",
        "colab": {
          "base_uri": "https://localhost:8080/"
        },
        "outputId": "dd81e5a1-a122-43fb-e79e-c3c848ca7020"
      },
      "source": [
        "print('Hello world')"
      ],
      "execution_count": null,
      "outputs": [
        {
          "output_type": "stream",
          "text": [
            "Hello world\n"
          ],
          "name": "stdout"
        }
      ]
    },
    {
      "cell_type": "markdown",
      "metadata": {
        "id": "BeUy_yJIWqm2"
      },
      "source": [
        ""
      ]
    },
    {
      "cell_type": "markdown",
      "metadata": {
        "id": "eRZSf17TtV3D"
      },
      "source": [
        "**Upload Data from loacal system**"
      ]
    },
    {
      "cell_type": "code",
      "metadata": {
        "id": "qQOr-w3ntCtJ",
        "colab": {
          "resources": {
            "http://localhost:8080/nbextensions/google.colab/files.js": {
              "data": "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",
              "ok": true,
              "headers": [
                [
                  "content-type",
                  "application/javascript"
                ]
              ],
              "status": 200,
              "status_text": ""
            }
          },
          "base_uri": "https://localhost:8080/",
          "height": 90
        },
        "outputId": "83ed1948-a3e0-4905-e0e3-8272ceb48dc4"
      },
      "source": [
        "from google.colab import files \n",
        "uploaded = files.upload() "
      ],
      "execution_count": null,
      "outputs": [
        {
          "output_type": "display_data",
          "data": {
            "text/html": [
              "\n",
              "     <input type=\"file\" id=\"files-b15a1221-b45e-4593-b943-34f167a6e423\" name=\"files[]\" multiple disabled\n",
              "        style=\"border:none\" />\n",
              "     <output id=\"result-b15a1221-b45e-4593-b943-34f167a6e423\">\n",
              "      Upload widget is only available when the cell has been executed in the\n",
              "      current browser session. Please rerun this cell to enable.\n",
              "      </output>\n",
              "      <script src=\"/nbextensions/google.colab/files.js\"></script> "
            ],
            "text/plain": [
              "<IPython.core.display.HTML object>"
            ]
          },
          "metadata": {
            "tags": []
          }
        },
        {
          "output_type": "stream",
          "text": [
            "Saving IPL IMB381IPL2013.csv to IPL IMB381IPL2013.csv\n"
          ],
          "name": "stdout"
        }
      ]
    },
    {
      "cell_type": "markdown",
      "metadata": {
        "id": "pQsXsBJYtzZb"
      },
      "source": [
        "**IMPORT FILES FROM DRIVE INTO GOOGLE-COLAB**\n",
        "\n",
        "\n"
      ]
    },
    {
      "cell_type": "code",
      "metadata": {
        "id": "HyGdf8ecbOpI"
      },
      "source": [
        "from google.colab import drive"
      ],
      "execution_count": null,
      "outputs": []
    },
    {
      "cell_type": "code",
      "metadata": {
        "id": "xRhEt91WcSsm",
        "colab": {
          "base_uri": "https://localhost:8080/"
        },
        "outputId": "32372be7-86b4-4a5d-8b95-54ce31eea3cd"
      },
      "source": [
        "drive.mount('/content/drive')"
      ],
      "execution_count": null,
      "outputs": [
        {
          "output_type": "stream",
          "text": [
            "Mounted at /content/drive\n"
          ],
          "name": "stdout"
        }
      ]
    },
    {
      "cell_type": "code",
      "metadata": {
        "id": "ga4fpNUGdMwE",
        "colab": {
          "base_uri": "https://localhost:8080/"
        },
        "outputId": "29f58e47-f4d5-498e-a92c-742dcdeff6c9"
      },
      "source": [
        "#3.1 Read file as panda dataframe\n",
        "import pandas as pd\n",
        "ipl_df= pd.read_csv('/content/drive/MyDrive/IPL IMB381IPL2013.csv') \n",
        "print(ipl_df.head(10))"
      ],
      "execution_count": null,
      "outputs": [
        {
          "output_type": "stream",
          "text": [
            "   Sl.NO.    PLAYER NAME  AGE  ... AUCTION YEAR BASE PRICE SOLD PRICE\n",
            "0       1    Abdulla, YA    2  ...         2009      50000      50000\n",
            "1       2   Abdur Razzak    2  ...         2008      50000      50000\n",
            "2       3    Agarkar, AB    2  ...         2008     200000     350000\n",
            "3       4      Ashwin, R    1  ...         2011     100000     850000\n",
            "4       5   Badrinath, S    2  ...         2011     100000     800000\n",
            "5       6     Bailey, GJ    2  ...         2009      50000      50000\n",
            "6       7      Balaji, L    2  ...         2011     100000     500000\n",
            "7       8  Bollinger, DE    2  ...         2011     200000     700000\n",
            "8       9       Botha, J    2  ...         2011     200000     950000\n",
            "9      10    Boucher, MV    2  ...         2008     200000     450000\n",
            "\n",
            "[10 rows x 26 columns]\n"
          ],
          "name": "stdout"
        }
      ]
    },
    {
      "cell_type": "markdown",
      "metadata": {
        "id": "C0Gn2RWa5kt-"
      },
      "source": [
        "Import from Github"
      ]
    },
    {
      "cell_type": "code",
      "metadata": {
        "colab": {
          "base_uri": "https://localhost:8080/",
          "height": 511
        },
        "id": "t2AzWLv-5q9H",
        "outputId": "0e0fa38f-0753-4703-dee7-1be425f5f793"
      },
      "source": [
        "ipl_df = pd.read_csv(\"https://raw.githubusercontent.com/rssmahesh1/MLA2021/main/Data/IPL%20IMB381IPL2013.csv\")\n",
        "ipl_df.head(10)"
      ],
      "execution_count": null,
      "outputs": [
        {
          "output_type": "execute_result",
          "data": {
            "text/html": [
              "<div>\n",
              "<style scoped>\n",
              "    .dataframe tbody tr th:only-of-type {\n",
              "        vertical-align: middle;\n",
              "    }\n",
              "\n",
              "    .dataframe tbody tr th {\n",
              "        vertical-align: top;\n",
              "    }\n",
              "\n",
              "    .dataframe thead th {\n",
              "        text-align: right;\n",
              "    }\n",
              "</style>\n",
              "<table border=\"1\" class=\"dataframe\">\n",
              "  <thead>\n",
              "    <tr style=\"text-align: right;\">\n",
              "      <th></th>\n",
              "      <th>Sl.NO.</th>\n",
              "      <th>PLAYER NAME</th>\n",
              "      <th>AGE</th>\n",
              "      <th>COUNTRY</th>\n",
              "      <th>TEAM</th>\n",
              "      <th>PLAYING ROLE</th>\n",
              "      <th>T-RUNS</th>\n",
              "      <th>T-WKTS</th>\n",
              "      <th>ODI-RUNS-S</th>\n",
              "      <th>ODI-SR-B</th>\n",
              "      <th>ODI-WKTS</th>\n",
              "      <th>ODI-SR-BL</th>\n",
              "      <th>CAPTAINCY EXP</th>\n",
              "      <th>RUNS-S</th>\n",
              "      <th>HS</th>\n",
              "      <th>AVE</th>\n",
              "      <th>SR-B</th>\n",
              "      <th>SIXERS</th>\n",
              "      <th>RUNS-C</th>\n",
              "      <th>WKTS</th>\n",
              "      <th>AVE-BL</th>\n",
              "      <th>ECON</th>\n",
              "      <th>SR-BL</th>\n",
              "      <th>AUCTION YEAR</th>\n",
              "      <th>BASE PRICE</th>\n",
              "      <th>SOLD PRICE</th>\n",
              "    </tr>\n",
              "  </thead>\n",
              "  <tbody>\n",
              "    <tr>\n",
              "      <th>0</th>\n",
              "      <td>1</td>\n",
              "      <td>Abdulla, YA</td>\n",
              "      <td>2</td>\n",
              "      <td>SA</td>\n",
              "      <td>KXIP</td>\n",
              "      <td>Allrounder</td>\n",
              "      <td>0</td>\n",
              "      <td>0</td>\n",
              "      <td>0</td>\n",
              "      <td>0.00</td>\n",
              "      <td>0</td>\n",
              "      <td>0.0</td>\n",
              "      <td>0</td>\n",
              "      <td>0</td>\n",
              "      <td>0</td>\n",
              "      <td>0.00</td>\n",
              "      <td>0.00</td>\n",
              "      <td>0</td>\n",
              "      <td>307</td>\n",
              "      <td>15</td>\n",
              "      <td>20.47</td>\n",
              "      <td>8.90</td>\n",
              "      <td>13.93</td>\n",
              "      <td>2009</td>\n",
              "      <td>50000</td>\n",
              "      <td>50000</td>\n",
              "    </tr>\n",
              "    <tr>\n",
              "      <th>1</th>\n",
              "      <td>2</td>\n",
              "      <td>Abdur Razzak</td>\n",
              "      <td>2</td>\n",
              "      <td>BAN</td>\n",
              "      <td>RCB</td>\n",
              "      <td>Bowler</td>\n",
              "      <td>214</td>\n",
              "      <td>18</td>\n",
              "      <td>657</td>\n",
              "      <td>71.41</td>\n",
              "      <td>185</td>\n",
              "      <td>37.6</td>\n",
              "      <td>0</td>\n",
              "      <td>0</td>\n",
              "      <td>0</td>\n",
              "      <td>0.00</td>\n",
              "      <td>0.00</td>\n",
              "      <td>0</td>\n",
              "      <td>29</td>\n",
              "      <td>0</td>\n",
              "      <td>0.00</td>\n",
              "      <td>14.50</td>\n",
              "      <td>0.00</td>\n",
              "      <td>2008</td>\n",
              "      <td>50000</td>\n",
              "      <td>50000</td>\n",
              "    </tr>\n",
              "    <tr>\n",
              "      <th>2</th>\n",
              "      <td>3</td>\n",
              "      <td>Agarkar, AB</td>\n",
              "      <td>2</td>\n",
              "      <td>IND</td>\n",
              "      <td>KKR</td>\n",
              "      <td>Bowler</td>\n",
              "      <td>571</td>\n",
              "      <td>58</td>\n",
              "      <td>1269</td>\n",
              "      <td>80.62</td>\n",
              "      <td>288</td>\n",
              "      <td>32.9</td>\n",
              "      <td>0</td>\n",
              "      <td>167</td>\n",
              "      <td>39</td>\n",
              "      <td>18.56</td>\n",
              "      <td>121.01</td>\n",
              "      <td>5</td>\n",
              "      <td>1059</td>\n",
              "      <td>29</td>\n",
              "      <td>36.52</td>\n",
              "      <td>8.81</td>\n",
              "      <td>24.90</td>\n",
              "      <td>2008</td>\n",
              "      <td>200000</td>\n",
              "      <td>350000</td>\n",
              "    </tr>\n",
              "    <tr>\n",
              "      <th>3</th>\n",
              "      <td>4</td>\n",
              "      <td>Ashwin, R</td>\n",
              "      <td>1</td>\n",
              "      <td>IND</td>\n",
              "      <td>CSK</td>\n",
              "      <td>Bowler</td>\n",
              "      <td>284</td>\n",
              "      <td>31</td>\n",
              "      <td>241</td>\n",
              "      <td>84.56</td>\n",
              "      <td>51</td>\n",
              "      <td>36.8</td>\n",
              "      <td>0</td>\n",
              "      <td>58</td>\n",
              "      <td>11</td>\n",
              "      <td>5.80</td>\n",
              "      <td>76.32</td>\n",
              "      <td>0</td>\n",
              "      <td>1125</td>\n",
              "      <td>49</td>\n",
              "      <td>22.96</td>\n",
              "      <td>6.23</td>\n",
              "      <td>22.14</td>\n",
              "      <td>2011</td>\n",
              "      <td>100000</td>\n",
              "      <td>850000</td>\n",
              "    </tr>\n",
              "    <tr>\n",
              "      <th>4</th>\n",
              "      <td>5</td>\n",
              "      <td>Badrinath, S</td>\n",
              "      <td>2</td>\n",
              "      <td>IND</td>\n",
              "      <td>CSK</td>\n",
              "      <td>Batsman</td>\n",
              "      <td>63</td>\n",
              "      <td>0</td>\n",
              "      <td>79</td>\n",
              "      <td>45.93</td>\n",
              "      <td>0</td>\n",
              "      <td>0.0</td>\n",
              "      <td>0</td>\n",
              "      <td>1317</td>\n",
              "      <td>71</td>\n",
              "      <td>32.93</td>\n",
              "      <td>120.71</td>\n",
              "      <td>28</td>\n",
              "      <td>0</td>\n",
              "      <td>0</td>\n",
              "      <td>0.00</td>\n",
              "      <td>0.00</td>\n",
              "      <td>0.00</td>\n",
              "      <td>2011</td>\n",
              "      <td>100000</td>\n",
              "      <td>800000</td>\n",
              "    </tr>\n",
              "    <tr>\n",
              "      <th>5</th>\n",
              "      <td>6</td>\n",
              "      <td>Bailey, GJ</td>\n",
              "      <td>2</td>\n",
              "      <td>AUS</td>\n",
              "      <td>CSK</td>\n",
              "      <td>Batsman</td>\n",
              "      <td>0</td>\n",
              "      <td>0</td>\n",
              "      <td>172</td>\n",
              "      <td>72.26</td>\n",
              "      <td>0</td>\n",
              "      <td>0.0</td>\n",
              "      <td>1</td>\n",
              "      <td>63</td>\n",
              "      <td>48</td>\n",
              "      <td>21.00</td>\n",
              "      <td>95.45</td>\n",
              "      <td>0</td>\n",
              "      <td>0</td>\n",
              "      <td>0</td>\n",
              "      <td>0.00</td>\n",
              "      <td>0.00</td>\n",
              "      <td>0.00</td>\n",
              "      <td>2009</td>\n",
              "      <td>50000</td>\n",
              "      <td>50000</td>\n",
              "    </tr>\n",
              "    <tr>\n",
              "      <th>6</th>\n",
              "      <td>7</td>\n",
              "      <td>Balaji, L</td>\n",
              "      <td>2</td>\n",
              "      <td>IND</td>\n",
              "      <td>CSK+</td>\n",
              "      <td>Bowler</td>\n",
              "      <td>51</td>\n",
              "      <td>27</td>\n",
              "      <td>120</td>\n",
              "      <td>78.94</td>\n",
              "      <td>34</td>\n",
              "      <td>42.5</td>\n",
              "      <td>0</td>\n",
              "      <td>26</td>\n",
              "      <td>15</td>\n",
              "      <td>4.33</td>\n",
              "      <td>72.22</td>\n",
              "      <td>1</td>\n",
              "      <td>1342</td>\n",
              "      <td>52</td>\n",
              "      <td>25.81</td>\n",
              "      <td>7.98</td>\n",
              "      <td>19.40</td>\n",
              "      <td>2011</td>\n",
              "      <td>100000</td>\n",
              "      <td>500000</td>\n",
              "    </tr>\n",
              "    <tr>\n",
              "      <th>7</th>\n",
              "      <td>8</td>\n",
              "      <td>Bollinger, DE</td>\n",
              "      <td>2</td>\n",
              "      <td>AUS</td>\n",
              "      <td>CSK</td>\n",
              "      <td>Bowler</td>\n",
              "      <td>54</td>\n",
              "      <td>50</td>\n",
              "      <td>50</td>\n",
              "      <td>92.59</td>\n",
              "      <td>62</td>\n",
              "      <td>31.3</td>\n",
              "      <td>0</td>\n",
              "      <td>21</td>\n",
              "      <td>16</td>\n",
              "      <td>21.00</td>\n",
              "      <td>165.88</td>\n",
              "      <td>1</td>\n",
              "      <td>693</td>\n",
              "      <td>37</td>\n",
              "      <td>18.73</td>\n",
              "      <td>7.22</td>\n",
              "      <td>15.57</td>\n",
              "      <td>2011</td>\n",
              "      <td>200000</td>\n",
              "      <td>700000</td>\n",
              "    </tr>\n",
              "    <tr>\n",
              "      <th>8</th>\n",
              "      <td>9</td>\n",
              "      <td>Botha, J</td>\n",
              "      <td>2</td>\n",
              "      <td>SA</td>\n",
              "      <td>RR</td>\n",
              "      <td>Allrounder</td>\n",
              "      <td>83</td>\n",
              "      <td>17</td>\n",
              "      <td>609</td>\n",
              "      <td>85.77</td>\n",
              "      <td>72</td>\n",
              "      <td>53.0</td>\n",
              "      <td>1</td>\n",
              "      <td>335</td>\n",
              "      <td>67</td>\n",
              "      <td>30.45</td>\n",
              "      <td>114.73</td>\n",
              "      <td>3</td>\n",
              "      <td>610</td>\n",
              "      <td>19</td>\n",
              "      <td>32.11</td>\n",
              "      <td>6.85</td>\n",
              "      <td>28.11</td>\n",
              "      <td>2011</td>\n",
              "      <td>200000</td>\n",
              "      <td>950000</td>\n",
              "    </tr>\n",
              "    <tr>\n",
              "      <th>9</th>\n",
              "      <td>10</td>\n",
              "      <td>Boucher, MV</td>\n",
              "      <td>2</td>\n",
              "      <td>SA</td>\n",
              "      <td>RCB+</td>\n",
              "      <td>W. Keeper</td>\n",
              "      <td>5515</td>\n",
              "      <td>1</td>\n",
              "      <td>4686</td>\n",
              "      <td>84.76</td>\n",
              "      <td>0</td>\n",
              "      <td>0.0</td>\n",
              "      <td>1</td>\n",
              "      <td>394</td>\n",
              "      <td>50</td>\n",
              "      <td>28.14</td>\n",
              "      <td>127.51</td>\n",
              "      <td>13</td>\n",
              "      <td>0</td>\n",
              "      <td>0</td>\n",
              "      <td>0.00</td>\n",
              "      <td>0.00</td>\n",
              "      <td>0.00</td>\n",
              "      <td>2008</td>\n",
              "      <td>200000</td>\n",
              "      <td>450000</td>\n",
              "    </tr>\n",
              "  </tbody>\n",
              "</table>\n",
              "</div>"
            ],
            "text/plain": [
              "   Sl.NO.    PLAYER NAME  AGE  ... AUCTION YEAR BASE PRICE SOLD PRICE\n",
              "0       1    Abdulla, YA    2  ...         2009      50000      50000\n",
              "1       2   Abdur Razzak    2  ...         2008      50000      50000\n",
              "2       3    Agarkar, AB    2  ...         2008     200000     350000\n",
              "3       4      Ashwin, R    1  ...         2011     100000     850000\n",
              "4       5   Badrinath, S    2  ...         2011     100000     800000\n",
              "5       6     Bailey, GJ    2  ...         2009      50000      50000\n",
              "6       7      Balaji, L    2  ...         2011     100000     500000\n",
              "7       8  Bollinger, DE    2  ...         2011     200000     700000\n",
              "8       9       Botha, J    2  ...         2011     200000     950000\n",
              "9      10    Boucher, MV    2  ...         2008     200000     450000\n",
              "\n",
              "[10 rows x 26 columns]"
            ]
          },
          "metadata": {
            "tags": []
          },
          "execution_count": 9
        }
      ]
    },
    {
      "cell_type": "code",
      "metadata": {
        "id": "5h4LX2a0L__q"
      },
      "source": [
        "pd.set_option('display.max_columns', 7)"
      ],
      "execution_count": null,
      "outputs": []
    },
    {
      "cell_type": "code",
      "metadata": {
        "id": "dOtY35jhKNuC",
        "colab": {
          "base_uri": "https://localhost:8080/",
          "height": 232
        },
        "outputId": "507a49c7-23c2-4bb7-8913-31447eef2b38"
      },
      "source": [
        "ipl_df.head(5)"
      ],
      "execution_count": null,
      "outputs": [
        {
          "output_type": "execute_result",
          "data": {
            "text/html": [
              "<div>\n",
              "<style scoped>\n",
              "    .dataframe tbody tr th:only-of-type {\n",
              "        vertical-align: middle;\n",
              "    }\n",
              "\n",
              "    .dataframe tbody tr th {\n",
              "        vertical-align: top;\n",
              "    }\n",
              "\n",
              "    .dataframe thead th {\n",
              "        text-align: right;\n",
              "    }\n",
              "</style>\n",
              "<table border=\"1\" class=\"dataframe\">\n",
              "  <thead>\n",
              "    <tr style=\"text-align: right;\">\n",
              "      <th></th>\n",
              "      <th>Sl.NO.</th>\n",
              "      <th>PLAYER NAME</th>\n",
              "      <th>AGE</th>\n",
              "      <th>...</th>\n",
              "      <th>AUCTION YEAR</th>\n",
              "      <th>BASE PRICE</th>\n",
              "      <th>SOLD PRICE</th>\n",
              "    </tr>\n",
              "  </thead>\n",
              "  <tbody>\n",
              "    <tr>\n",
              "      <th>0</th>\n",
              "      <td>1</td>\n",
              "      <td>Abdulla, YA</td>\n",
              "      <td>2</td>\n",
              "      <td>...</td>\n",
              "      <td>2009</td>\n",
              "      <td>50000</td>\n",
              "      <td>50000</td>\n",
              "    </tr>\n",
              "    <tr>\n",
              "      <th>1</th>\n",
              "      <td>2</td>\n",
              "      <td>Abdur Razzak</td>\n",
              "      <td>2</td>\n",
              "      <td>...</td>\n",
              "      <td>2008</td>\n",
              "      <td>50000</td>\n",
              "      <td>50000</td>\n",
              "    </tr>\n",
              "    <tr>\n",
              "      <th>2</th>\n",
              "      <td>3</td>\n",
              "      <td>Agarkar, AB</td>\n",
              "      <td>2</td>\n",
              "      <td>...</td>\n",
              "      <td>2008</td>\n",
              "      <td>200000</td>\n",
              "      <td>350000</td>\n",
              "    </tr>\n",
              "    <tr>\n",
              "      <th>3</th>\n",
              "      <td>4</td>\n",
              "      <td>Ashwin, R</td>\n",
              "      <td>1</td>\n",
              "      <td>...</td>\n",
              "      <td>2011</td>\n",
              "      <td>100000</td>\n",
              "      <td>850000</td>\n",
              "    </tr>\n",
              "    <tr>\n",
              "      <th>4</th>\n",
              "      <td>5</td>\n",
              "      <td>Badrinath, S</td>\n",
              "      <td>2</td>\n",
              "      <td>...</td>\n",
              "      <td>2011</td>\n",
              "      <td>100000</td>\n",
              "      <td>800000</td>\n",
              "    </tr>\n",
              "  </tbody>\n",
              "</table>\n",
              "<p>5 rows × 26 columns</p>\n",
              "</div>"
            ],
            "text/plain": [
              "   Sl.NO.   PLAYER NAME  AGE  ... AUCTION YEAR BASE PRICE SOLD PRICE\n",
              "0       1   Abdulla, YA    2  ...         2009      50000      50000\n",
              "1       2  Abdur Razzak    2  ...         2008      50000      50000\n",
              "2       3   Agarkar, AB    2  ...         2008     200000     350000\n",
              "3       4     Ashwin, R    1  ...         2011     100000     850000\n",
              "4       5  Badrinath, S    2  ...         2011     100000     800000\n",
              "\n",
              "[5 rows x 26 columns]"
            ]
          },
          "metadata": {
            "tags": []
          },
          "execution_count": 11
        }
      ]
    },
    {
      "cell_type": "markdown",
      "metadata": {
        "id": "GzpPpKOtKsiv"
      },
      "source": [
        "Finding metadata of the DataFrame"
      ]
    },
    {
      "cell_type": "code",
      "metadata": {
        "id": "pilXM6DfKxAt",
        "colab": {
          "base_uri": "https://localhost:8080/"
        },
        "outputId": "adb491c4-4913-4097-823b-56e124100547"
      },
      "source": [
        "list(ipl_df.columns)"
      ],
      "execution_count": null,
      "outputs": [
        {
          "output_type": "execute_result",
          "data": {
            "text/plain": [
              "['Sl.NO.',\n",
              " 'PLAYER NAME',\n",
              " 'AGE',\n",
              " 'COUNTRY',\n",
              " 'TEAM',\n",
              " 'PLAYING ROLE',\n",
              " 'T-RUNS',\n",
              " 'T-WKTS',\n",
              " 'ODI-RUNS-S',\n",
              " 'ODI-SR-B',\n",
              " 'ODI-WKTS',\n",
              " 'ODI-SR-BL',\n",
              " 'CAPTAINCY EXP',\n",
              " 'RUNS-S',\n",
              " 'HS',\n",
              " 'AVE',\n",
              " 'SR-B',\n",
              " 'SIXERS',\n",
              " 'RUNS-C',\n",
              " 'WKTS',\n",
              " 'AVE-BL',\n",
              " 'ECON',\n",
              " 'SR-BL',\n",
              " 'AUCTION YEAR',\n",
              " 'BASE PRICE',\n",
              " 'SOLD PRICE']"
            ]
          },
          "metadata": {
            "tags": []
          },
          "execution_count": 12
        }
      ]
    },
    {
      "cell_type": "markdown",
      "metadata": {
        "id": "pK3_uDX7K-ix"
      },
      "source": [
        "**Finding Summary of the DataFrame**"
      ]
    },
    {
      "cell_type": "code",
      "metadata": {
        "id": "rcqdEcDULAfH",
        "colab": {
          "base_uri": "https://localhost:8080/"
        },
        "outputId": "34bd81f8-4534-47aa-cc97-66dc90dc6ff5"
      },
      "source": [
        "ipl_df.info()"
      ],
      "execution_count": null,
      "outputs": [
        {
          "output_type": "stream",
          "text": [
            "<class 'pandas.core.frame.DataFrame'>\n",
            "RangeIndex: 130 entries, 0 to 129\n",
            "Data columns (total 26 columns):\n",
            " #   Column         Non-Null Count  Dtype  \n",
            "---  ------         --------------  -----  \n",
            " 0   Sl.NO.         130 non-null    int64  \n",
            " 1   PLAYER NAME    130 non-null    object \n",
            " 2   AGE            130 non-null    int64  \n",
            " 3   COUNTRY        130 non-null    object \n",
            " 4   TEAM           130 non-null    object \n",
            " 5   PLAYING ROLE   130 non-null    object \n",
            " 6   T-RUNS         130 non-null    int64  \n",
            " 7   T-WKTS         130 non-null    int64  \n",
            " 8   ODI-RUNS-S     130 non-null    int64  \n",
            " 9   ODI-SR-B       130 non-null    float64\n",
            " 10  ODI-WKTS       130 non-null    int64  \n",
            " 11  ODI-SR-BL      130 non-null    float64\n",
            " 12  CAPTAINCY EXP  130 non-null    int64  \n",
            " 13  RUNS-S         130 non-null    int64  \n",
            " 14  HS             130 non-null    int64  \n",
            " 15  AVE            130 non-null    float64\n",
            " 16  SR-B           130 non-null    float64\n",
            " 17  SIXERS         130 non-null    int64  \n",
            " 18  RUNS-C         130 non-null    int64  \n",
            " 19  WKTS           130 non-null    int64  \n",
            " 20  AVE-BL         130 non-null    float64\n",
            " 21  ECON           130 non-null    float64\n",
            " 22  SR-BL          130 non-null    float64\n",
            " 23  AUCTION YEAR   130 non-null    int64  \n",
            " 24  BASE PRICE     130 non-null    int64  \n",
            " 25  SOLD PRICE     130 non-null    int64  \n",
            "dtypes: float64(7), int64(15), object(4)\n",
            "memory usage: 26.5+ KB\n"
          ],
          "name": "stdout"
        }
      ]
    },
    {
      "cell_type": "markdown",
      "metadata": {
        "id": "s2BSEQjPLOnM"
      },
      "source": [
        "**Slicing and Indexing a dataframe**\n",
        "**Selecting Rows by Indexes** \n"
      ]
    },
    {
      "cell_type": "code",
      "metadata": {
        "id": "UdhAEBHjLXVX",
        "colab": {
          "base_uri": "https://localhost:8080/",
          "height": 694
        },
        "outputId": "c0671e25-da02-4aa4-c099-37205077da30"
      },
      "source": [
        "ipl_df[0:20]"
      ],
      "execution_count": null,
      "outputs": [
        {
          "output_type": "execute_result",
          "data": {
            "text/html": [
              "<div>\n",
              "<style scoped>\n",
              "    .dataframe tbody tr th:only-of-type {\n",
              "        vertical-align: middle;\n",
              "    }\n",
              "\n",
              "    .dataframe tbody tr th {\n",
              "        vertical-align: top;\n",
              "    }\n",
              "\n",
              "    .dataframe thead th {\n",
              "        text-align: right;\n",
              "    }\n",
              "</style>\n",
              "<table border=\"1\" class=\"dataframe\">\n",
              "  <thead>\n",
              "    <tr style=\"text-align: right;\">\n",
              "      <th></th>\n",
              "      <th>Sl.NO.</th>\n",
              "      <th>PLAYER NAME</th>\n",
              "      <th>AGE</th>\n",
              "      <th>...</th>\n",
              "      <th>AUCTION YEAR</th>\n",
              "      <th>BASE PRICE</th>\n",
              "      <th>SOLD PRICE</th>\n",
              "    </tr>\n",
              "  </thead>\n",
              "  <tbody>\n",
              "    <tr>\n",
              "      <th>0</th>\n",
              "      <td>1</td>\n",
              "      <td>Abdulla, YA</td>\n",
              "      <td>2</td>\n",
              "      <td>...</td>\n",
              "      <td>2009</td>\n",
              "      <td>50000</td>\n",
              "      <td>50000</td>\n",
              "    </tr>\n",
              "    <tr>\n",
              "      <th>1</th>\n",
              "      <td>2</td>\n",
              "      <td>Abdur Razzak</td>\n",
              "      <td>2</td>\n",
              "      <td>...</td>\n",
              "      <td>2008</td>\n",
              "      <td>50000</td>\n",
              "      <td>50000</td>\n",
              "    </tr>\n",
              "    <tr>\n",
              "      <th>2</th>\n",
              "      <td>3</td>\n",
              "      <td>Agarkar, AB</td>\n",
              "      <td>2</td>\n",
              "      <td>...</td>\n",
              "      <td>2008</td>\n",
              "      <td>200000</td>\n",
              "      <td>350000</td>\n",
              "    </tr>\n",
              "    <tr>\n",
              "      <th>3</th>\n",
              "      <td>4</td>\n",
              "      <td>Ashwin, R</td>\n",
              "      <td>1</td>\n",
              "      <td>...</td>\n",
              "      <td>2011</td>\n",
              "      <td>100000</td>\n",
              "      <td>850000</td>\n",
              "    </tr>\n",
              "    <tr>\n",
              "      <th>4</th>\n",
              "      <td>5</td>\n",
              "      <td>Badrinath, S</td>\n",
              "      <td>2</td>\n",
              "      <td>...</td>\n",
              "      <td>2011</td>\n",
              "      <td>100000</td>\n",
              "      <td>800000</td>\n",
              "    </tr>\n",
              "    <tr>\n",
              "      <th>5</th>\n",
              "      <td>6</td>\n",
              "      <td>Bailey, GJ</td>\n",
              "      <td>2</td>\n",
              "      <td>...</td>\n",
              "      <td>2009</td>\n",
              "      <td>50000</td>\n",
              "      <td>50000</td>\n",
              "    </tr>\n",
              "    <tr>\n",
              "      <th>6</th>\n",
              "      <td>7</td>\n",
              "      <td>Balaji, L</td>\n",
              "      <td>2</td>\n",
              "      <td>...</td>\n",
              "      <td>2011</td>\n",
              "      <td>100000</td>\n",
              "      <td>500000</td>\n",
              "    </tr>\n",
              "    <tr>\n",
              "      <th>7</th>\n",
              "      <td>8</td>\n",
              "      <td>Bollinger, DE</td>\n",
              "      <td>2</td>\n",
              "      <td>...</td>\n",
              "      <td>2011</td>\n",
              "      <td>200000</td>\n",
              "      <td>700000</td>\n",
              "    </tr>\n",
              "    <tr>\n",
              "      <th>8</th>\n",
              "      <td>9</td>\n",
              "      <td>Botha, J</td>\n",
              "      <td>2</td>\n",
              "      <td>...</td>\n",
              "      <td>2011</td>\n",
              "      <td>200000</td>\n",
              "      <td>950000</td>\n",
              "    </tr>\n",
              "    <tr>\n",
              "      <th>9</th>\n",
              "      <td>10</td>\n",
              "      <td>Boucher, MV</td>\n",
              "      <td>2</td>\n",
              "      <td>...</td>\n",
              "      <td>2008</td>\n",
              "      <td>200000</td>\n",
              "      <td>450000</td>\n",
              "    </tr>\n",
              "    <tr>\n",
              "      <th>10</th>\n",
              "      <td>11</td>\n",
              "      <td>Bravo, DJ</td>\n",
              "      <td>2</td>\n",
              "      <td>...</td>\n",
              "      <td>2011</td>\n",
              "      <td>200000</td>\n",
              "      <td>200000</td>\n",
              "    </tr>\n",
              "    <tr>\n",
              "      <th>11</th>\n",
              "      <td>12</td>\n",
              "      <td>Chanderpaul, S</td>\n",
              "      <td>3</td>\n",
              "      <td>...</td>\n",
              "      <td>2008</td>\n",
              "      <td>200000</td>\n",
              "      <td>200000</td>\n",
              "    </tr>\n",
              "    <tr>\n",
              "      <th>12</th>\n",
              "      <td>13</td>\n",
              "      <td>Chawla, PP</td>\n",
              "      <td>1</td>\n",
              "      <td>...</td>\n",
              "      <td>2008</td>\n",
              "      <td>125000</td>\n",
              "      <td>400000</td>\n",
              "    </tr>\n",
              "    <tr>\n",
              "      <th>13</th>\n",
              "      <td>14</td>\n",
              "      <td>de Villiers, AB</td>\n",
              "      <td>2</td>\n",
              "      <td>...</td>\n",
              "      <td>2008</td>\n",
              "      <td>200000</td>\n",
              "      <td>300000</td>\n",
              "    </tr>\n",
              "    <tr>\n",
              "      <th>14</th>\n",
              "      <td>15</td>\n",
              "      <td>Dhawan, S</td>\n",
              "      <td>2</td>\n",
              "      <td>...</td>\n",
              "      <td>2011</td>\n",
              "      <td>100000</td>\n",
              "      <td>300000</td>\n",
              "    </tr>\n",
              "    <tr>\n",
              "      <th>15</th>\n",
              "      <td>16</td>\n",
              "      <td>Dhoni, MS</td>\n",
              "      <td>2</td>\n",
              "      <td>...</td>\n",
              "      <td>2008</td>\n",
              "      <td>400000</td>\n",
              "      <td>1500000</td>\n",
              "    </tr>\n",
              "    <tr>\n",
              "      <th>16</th>\n",
              "      <td>17</td>\n",
              "      <td>Dilshan, TM</td>\n",
              "      <td>2</td>\n",
              "      <td>...</td>\n",
              "      <td>2008</td>\n",
              "      <td>150000</td>\n",
              "      <td>250000</td>\n",
              "    </tr>\n",
              "    <tr>\n",
              "      <th>17</th>\n",
              "      <td>18</td>\n",
              "      <td>Dinda, AB</td>\n",
              "      <td>2</td>\n",
              "      <td>...</td>\n",
              "      <td>2011</td>\n",
              "      <td>100000</td>\n",
              "      <td>375000</td>\n",
              "    </tr>\n",
              "    <tr>\n",
              "      <th>18</th>\n",
              "      <td>19</td>\n",
              "      <td>Dravid, RS</td>\n",
              "      <td>3</td>\n",
              "      <td>...</td>\n",
              "      <td>2011</td>\n",
              "      <td>400000</td>\n",
              "      <td>500000</td>\n",
              "    </tr>\n",
              "    <tr>\n",
              "      <th>19</th>\n",
              "      <td>20</td>\n",
              "      <td>Duminy, J-P</td>\n",
              "      <td>2</td>\n",
              "      <td>...</td>\n",
              "      <td>2009</td>\n",
              "      <td>300000</td>\n",
              "      <td>300000</td>\n",
              "    </tr>\n",
              "  </tbody>\n",
              "</table>\n",
              "<p>20 rows × 26 columns</p>\n",
              "</div>"
            ],
            "text/plain": [
              "    Sl.NO.      PLAYER NAME  AGE  ... AUCTION YEAR BASE PRICE SOLD PRICE\n",
              "0        1      Abdulla, YA    2  ...         2009      50000      50000\n",
              "1        2     Abdur Razzak    2  ...         2008      50000      50000\n",
              "2        3      Agarkar, AB    2  ...         2008     200000     350000\n",
              "3        4        Ashwin, R    1  ...         2011     100000     850000\n",
              "4        5     Badrinath, S    2  ...         2011     100000     800000\n",
              "5        6       Bailey, GJ    2  ...         2009      50000      50000\n",
              "6        7        Balaji, L    2  ...         2011     100000     500000\n",
              "7        8    Bollinger, DE    2  ...         2011     200000     700000\n",
              "8        9         Botha, J    2  ...         2011     200000     950000\n",
              "9       10      Boucher, MV    2  ...         2008     200000     450000\n",
              "10      11        Bravo, DJ    2  ...         2011     200000     200000\n",
              "11      12   Chanderpaul, S    3  ...         2008     200000     200000\n",
              "12      13       Chawla, PP    1  ...         2008     125000     400000\n",
              "13      14  de Villiers, AB    2  ...         2008     200000     300000\n",
              "14      15        Dhawan, S    2  ...         2011     100000     300000\n",
              "15      16        Dhoni, MS    2  ...         2008     400000    1500000\n",
              "16      17      Dilshan, TM    2  ...         2008     150000     250000\n",
              "17      18        Dinda, AB    2  ...         2011     100000     375000\n",
              "18      19       Dravid, RS    3  ...         2011     400000     500000\n",
              "19      20      Duminy, J-P    2  ...         2009     300000     300000\n",
              "\n",
              "[20 rows x 26 columns]"
            ]
          },
          "metadata": {
            "tags": []
          },
          "execution_count": 15
        }
      ]
    },
    {
      "cell_type": "code",
      "metadata": {
        "id": "f13QljhSLjpj",
        "colab": {
          "base_uri": "https://localhost:8080/",
          "height": 232
        },
        "outputId": "b7e01b51-46e8-42d2-9b73-0bb6909d10c9"
      },
      "source": [
        "ipl_df[-5:]"
      ],
      "execution_count": null,
      "outputs": [
        {
          "output_type": "execute_result",
          "data": {
            "text/html": [
              "<div>\n",
              "<style scoped>\n",
              "    .dataframe tbody tr th:only-of-type {\n",
              "        vertical-align: middle;\n",
              "    }\n",
              "\n",
              "    .dataframe tbody tr th {\n",
              "        vertical-align: top;\n",
              "    }\n",
              "\n",
              "    .dataframe thead th {\n",
              "        text-align: right;\n",
              "    }\n",
              "</style>\n",
              "<table border=\"1\" class=\"dataframe\">\n",
              "  <thead>\n",
              "    <tr style=\"text-align: right;\">\n",
              "      <th></th>\n",
              "      <th>Sl.NO.</th>\n",
              "      <th>PLAYER NAME</th>\n",
              "      <th>AGE</th>\n",
              "      <th>...</th>\n",
              "      <th>AUCTION YEAR</th>\n",
              "      <th>BASE PRICE</th>\n",
              "      <th>SOLD PRICE</th>\n",
              "    </tr>\n",
              "  </thead>\n",
              "  <tbody>\n",
              "    <tr>\n",
              "      <th>125</th>\n",
              "      <td>126</td>\n",
              "      <td>Yadav, AS</td>\n",
              "      <td>2</td>\n",
              "      <td>...</td>\n",
              "      <td>2010</td>\n",
              "      <td>50000</td>\n",
              "      <td>750000</td>\n",
              "    </tr>\n",
              "    <tr>\n",
              "      <th>126</th>\n",
              "      <td>127</td>\n",
              "      <td>Younis Khan</td>\n",
              "      <td>2</td>\n",
              "      <td>...</td>\n",
              "      <td>2008</td>\n",
              "      <td>225000</td>\n",
              "      <td>225000</td>\n",
              "    </tr>\n",
              "    <tr>\n",
              "      <th>127</th>\n",
              "      <td>128</td>\n",
              "      <td>Yuvraj Singh</td>\n",
              "      <td>2</td>\n",
              "      <td>...</td>\n",
              "      <td>2011</td>\n",
              "      <td>400000</td>\n",
              "      <td>1800000</td>\n",
              "    </tr>\n",
              "    <tr>\n",
              "      <th>128</th>\n",
              "      <td>129</td>\n",
              "      <td>Zaheer Khan</td>\n",
              "      <td>2</td>\n",
              "      <td>...</td>\n",
              "      <td>2008</td>\n",
              "      <td>200000</td>\n",
              "      <td>450000</td>\n",
              "    </tr>\n",
              "    <tr>\n",
              "      <th>129</th>\n",
              "      <td>130</td>\n",
              "      <td>Zoysa, DNT</td>\n",
              "      <td>2</td>\n",
              "      <td>...</td>\n",
              "      <td>2008</td>\n",
              "      <td>100000</td>\n",
              "      <td>110000</td>\n",
              "    </tr>\n",
              "  </tbody>\n",
              "</table>\n",
              "<p>5 rows × 26 columns</p>\n",
              "</div>"
            ],
            "text/plain": [
              "     Sl.NO.   PLAYER NAME  AGE  ... AUCTION YEAR BASE PRICE SOLD PRICE\n",
              "125     126     Yadav, AS    2  ...         2010      50000     750000\n",
              "126     127   Younis Khan    2  ...         2008     225000     225000\n",
              "127     128  Yuvraj Singh    2  ...         2011     400000    1800000\n",
              "128     129   Zaheer Khan    2  ...         2008     200000     450000\n",
              "129     130    Zoysa, DNT    2  ...         2008     100000     110000\n",
              "\n",
              "[5 rows x 26 columns]"
            ]
          },
          "metadata": {
            "tags": []
          },
          "execution_count": 16
        }
      ]
    },
    {
      "cell_type": "markdown",
      "metadata": {
        "id": "EOHeYpZDMZuq"
      },
      "source": [
        "Selecting Columns by Column Names"
      ]
    },
    {
      "cell_type": "code",
      "metadata": {
        "id": "601t49EeMVIK",
        "colab": {
          "base_uri": "https://localhost:8080/"
        },
        "outputId": "92f583e9-98b1-4d16-aacf-6e17437956ed"
      },
      "source": [
        "ipl_df['PLAYER NAME'][0:10]"
      ],
      "execution_count": null,
      "outputs": [
        {
          "output_type": "execute_result",
          "data": {
            "text/plain": [
              "0      Abdulla, YA\n",
              "1     Abdur Razzak\n",
              "2      Agarkar, AB\n",
              "3        Ashwin, R\n",
              "4     Badrinath, S\n",
              "5       Bailey, GJ\n",
              "6        Balaji, L\n",
              "7    Bollinger, DE\n",
              "8         Botha, J\n",
              "9      Boucher, MV\n",
              "Name: PLAYER NAME, dtype: object"
            ]
          },
          "metadata": {
            "tags": []
          },
          "execution_count": 17
        }
      ]
    },
    {
      "cell_type": "code",
      "metadata": {
        "id": "3r5NGqwTMiP6",
        "colab": {
          "base_uri": "https://localhost:8080/",
          "height": 203
        },
        "outputId": "4862f46f-bb6e-4249-e040-e31d7d29a9a3"
      },
      "source": [
        "ipl_df[['PLAYER NAME', 'COUNTRY']][0:5]"
      ],
      "execution_count": null,
      "outputs": [
        {
          "output_type": "execute_result",
          "data": {
            "text/html": [
              "<div>\n",
              "<style scoped>\n",
              "    .dataframe tbody tr th:only-of-type {\n",
              "        vertical-align: middle;\n",
              "    }\n",
              "\n",
              "    .dataframe tbody tr th {\n",
              "        vertical-align: top;\n",
              "    }\n",
              "\n",
              "    .dataframe thead th {\n",
              "        text-align: right;\n",
              "    }\n",
              "</style>\n",
              "<table border=\"1\" class=\"dataframe\">\n",
              "  <thead>\n",
              "    <tr style=\"text-align: right;\">\n",
              "      <th></th>\n",
              "      <th>PLAYER NAME</th>\n",
              "      <th>COUNTRY</th>\n",
              "    </tr>\n",
              "  </thead>\n",
              "  <tbody>\n",
              "    <tr>\n",
              "      <th>0</th>\n",
              "      <td>Abdulla, YA</td>\n",
              "      <td>SA</td>\n",
              "    </tr>\n",
              "    <tr>\n",
              "      <th>1</th>\n",
              "      <td>Abdur Razzak</td>\n",
              "      <td>BAN</td>\n",
              "    </tr>\n",
              "    <tr>\n",
              "      <th>2</th>\n",
              "      <td>Agarkar, AB</td>\n",
              "      <td>IND</td>\n",
              "    </tr>\n",
              "    <tr>\n",
              "      <th>3</th>\n",
              "      <td>Ashwin, R</td>\n",
              "      <td>IND</td>\n",
              "    </tr>\n",
              "    <tr>\n",
              "      <th>4</th>\n",
              "      <td>Badrinath, S</td>\n",
              "      <td>IND</td>\n",
              "    </tr>\n",
              "  </tbody>\n",
              "</table>\n",
              "</div>"
            ],
            "text/plain": [
              "    PLAYER NAME COUNTRY\n",
              "0   Abdulla, YA      SA\n",
              "1  Abdur Razzak     BAN\n",
              "2   Agarkar, AB     IND\n",
              "3     Ashwin, R     IND\n",
              "4  Badrinath, S     IND"
            ]
          },
          "metadata": {
            "tags": []
          },
          "execution_count": 18
        }
      ]
    },
    {
      "cell_type": "markdown",
      "metadata": {
        "id": "m9przEUrMxgC"
      },
      "source": [
        "Selecting Rows and Columns by indexes"
      ]
    },
    {
      "cell_type": "code",
      "metadata": {
        "id": "8TghwJKnMySi",
        "colab": {
          "base_uri": "https://localhost:8080/",
          "height": 1000
        },
        "outputId": "3a13dfc9-9035-4a85-fe84-5a85dab910a6"
      },
      "source": [
        "ipl_df.iloc[50:100, 1:7]"
      ],
      "execution_count": null,
      "outputs": [
        {
          "output_type": "execute_result",
          "data": {
            "text/html": [
              "<div>\n",
              "<style scoped>\n",
              "    .dataframe tbody tr th:only-of-type {\n",
              "        vertical-align: middle;\n",
              "    }\n",
              "\n",
              "    .dataframe tbody tr th {\n",
              "        vertical-align: top;\n",
              "    }\n",
              "\n",
              "    .dataframe thead th {\n",
              "        text-align: right;\n",
              "    }\n",
              "</style>\n",
              "<table border=\"1\" class=\"dataframe\">\n",
              "  <thead>\n",
              "    <tr style=\"text-align: right;\">\n",
              "      <th></th>\n",
              "      <th>PLAYER NAME</th>\n",
              "      <th>AGE</th>\n",
              "      <th>COUNTRY</th>\n",
              "      <th>TEAM</th>\n",
              "      <th>PLAYING ROLE</th>\n",
              "      <th>T-RUNS</th>\n",
              "    </tr>\n",
              "  </thead>\n",
              "  <tbody>\n",
              "    <tr>\n",
              "      <th>50</th>\n",
              "      <td>Kohli, V</td>\n",
              "      <td>1</td>\n",
              "      <td>IND</td>\n",
              "      <td>RCB</td>\n",
              "      <td>Batsman</td>\n",
              "      <td>491</td>\n",
              "    </tr>\n",
              "    <tr>\n",
              "      <th>51</th>\n",
              "      <td>Kumar, P</td>\n",
              "      <td>1</td>\n",
              "      <td>IND</td>\n",
              "      <td>RCB+</td>\n",
              "      <td>Bowler</td>\n",
              "      <td>149</td>\n",
              "    </tr>\n",
              "    <tr>\n",
              "      <th>52</th>\n",
              "      <td>Kumble, A</td>\n",
              "      <td>3</td>\n",
              "      <td>IND</td>\n",
              "      <td>RCB</td>\n",
              "      <td>Bowler</td>\n",
              "      <td>2506</td>\n",
              "    </tr>\n",
              "    <tr>\n",
              "      <th>53</th>\n",
              "      <td>Langeveldt, CK</td>\n",
              "      <td>3</td>\n",
              "      <td>SA</td>\n",
              "      <td>KKR+</td>\n",
              "      <td>Bowler</td>\n",
              "      <td>16</td>\n",
              "    </tr>\n",
              "    <tr>\n",
              "      <th>54</th>\n",
              "      <td>Laxman, VVS</td>\n",
              "      <td>3</td>\n",
              "      <td>IND</td>\n",
              "      <td>DC+</td>\n",
              "      <td>Batsman</td>\n",
              "      <td>8781</td>\n",
              "    </tr>\n",
              "    <tr>\n",
              "      <th>55</th>\n",
              "      <td>Lee, B</td>\n",
              "      <td>2</td>\n",
              "      <td>AUS</td>\n",
              "      <td>KXI+</td>\n",
              "      <td>Bowler</td>\n",
              "      <td>1451</td>\n",
              "    </tr>\n",
              "    <tr>\n",
              "      <th>56</th>\n",
              "      <td>Maharoof, MF</td>\n",
              "      <td>2</td>\n",
              "      <td>SL</td>\n",
              "      <td>DD</td>\n",
              "      <td>Allrounder</td>\n",
              "      <td>556</td>\n",
              "    </tr>\n",
              "    <tr>\n",
              "      <th>57</th>\n",
              "      <td>Malinga, SL</td>\n",
              "      <td>2</td>\n",
              "      <td>SL</td>\n",
              "      <td>MI</td>\n",
              "      <td>Bowler</td>\n",
              "      <td>275</td>\n",
              "    </tr>\n",
              "    <tr>\n",
              "      <th>58</th>\n",
              "      <td>Mascarenhas, AD</td>\n",
              "      <td>2</td>\n",
              "      <td>ENG</td>\n",
              "      <td>RR+</td>\n",
              "      <td>Allrounder</td>\n",
              "      <td>0</td>\n",
              "    </tr>\n",
              "    <tr>\n",
              "      <th>59</th>\n",
              "      <td>Mathews, AD</td>\n",
              "      <td>1</td>\n",
              "      <td>SL</td>\n",
              "      <td>KKR+</td>\n",
              "      <td>Allrounder</td>\n",
              "      <td>1219</td>\n",
              "    </tr>\n",
              "    <tr>\n",
              "      <th>60</th>\n",
              "      <td>McCullum, BB</td>\n",
              "      <td>2</td>\n",
              "      <td>NZ</td>\n",
              "      <td>KKR+</td>\n",
              "      <td>W. Keeper</td>\n",
              "      <td>3763</td>\n",
              "    </tr>\n",
              "    <tr>\n",
              "      <th>61</th>\n",
              "      <td>McDonald, AB</td>\n",
              "      <td>2</td>\n",
              "      <td>AUS</td>\n",
              "      <td>DD+</td>\n",
              "      <td>Allrounder</td>\n",
              "      <td>107</td>\n",
              "    </tr>\n",
              "    <tr>\n",
              "      <th>62</th>\n",
              "      <td>McGrath, GD</td>\n",
              "      <td>3</td>\n",
              "      <td>AUS</td>\n",
              "      <td>DD</td>\n",
              "      <td>Bowler</td>\n",
              "      <td>641</td>\n",
              "    </tr>\n",
              "    <tr>\n",
              "      <th>63</th>\n",
              "      <td>Misbah-ul-Haq</td>\n",
              "      <td>3</td>\n",
              "      <td>PAK</td>\n",
              "      <td>RCB</td>\n",
              "      <td>Batsman</td>\n",
              "      <td>2173</td>\n",
              "    </tr>\n",
              "    <tr>\n",
              "      <th>64</th>\n",
              "      <td>Mishra, A</td>\n",
              "      <td>2</td>\n",
              "      <td>IND</td>\n",
              "      <td>DD+</td>\n",
              "      <td>Bowler</td>\n",
              "      <td>392</td>\n",
              "    </tr>\n",
              "    <tr>\n",
              "      <th>65</th>\n",
              "      <td>Mithun, A</td>\n",
              "      <td>1</td>\n",
              "      <td>IND</td>\n",
              "      <td>RCB</td>\n",
              "      <td>Bowler</td>\n",
              "      <td>120</td>\n",
              "    </tr>\n",
              "    <tr>\n",
              "      <th>66</th>\n",
              "      <td>Mohammad Asif</td>\n",
              "      <td>2</td>\n",
              "      <td>PAK</td>\n",
              "      <td>DD</td>\n",
              "      <td>Bowler</td>\n",
              "      <td>141</td>\n",
              "    </tr>\n",
              "    <tr>\n",
              "      <th>67</th>\n",
              "      <td>Morkel, JA</td>\n",
              "      <td>2</td>\n",
              "      <td>SA</td>\n",
              "      <td>CSK</td>\n",
              "      <td>Allrounder</td>\n",
              "      <td>58</td>\n",
              "    </tr>\n",
              "    <tr>\n",
              "      <th>68</th>\n",
              "      <td>Morkel, M</td>\n",
              "      <td>2</td>\n",
              "      <td>SA</td>\n",
              "      <td>RR+</td>\n",
              "      <td>Bowler</td>\n",
              "      <td>555</td>\n",
              "    </tr>\n",
              "    <tr>\n",
              "      <th>69</th>\n",
              "      <td>Muralitharan, M</td>\n",
              "      <td>3</td>\n",
              "      <td>SL</td>\n",
              "      <td>CSK+</td>\n",
              "      <td>Bowler</td>\n",
              "      <td>1261</td>\n",
              "    </tr>\n",
              "    <tr>\n",
              "      <th>70</th>\n",
              "      <td>Nannes, DP</td>\n",
              "      <td>3</td>\n",
              "      <td>AUS</td>\n",
              "      <td>DD+</td>\n",
              "      <td>Bowler</td>\n",
              "      <td>0</td>\n",
              "    </tr>\n",
              "    <tr>\n",
              "      <th>71</th>\n",
              "      <td>Nayar, AM</td>\n",
              "      <td>2</td>\n",
              "      <td>IND</td>\n",
              "      <td>MI+</td>\n",
              "      <td>Allrounder</td>\n",
              "      <td>0</td>\n",
              "    </tr>\n",
              "    <tr>\n",
              "      <th>72</th>\n",
              "      <td>Nehra, A</td>\n",
              "      <td>2</td>\n",
              "      <td>IND</td>\n",
              "      <td>DD+</td>\n",
              "      <td>Bowler</td>\n",
              "      <td>77</td>\n",
              "    </tr>\n",
              "    <tr>\n",
              "      <th>73</th>\n",
              "      <td>Noffke, AA</td>\n",
              "      <td>2</td>\n",
              "      <td>AUS</td>\n",
              "      <td>RCB</td>\n",
              "      <td>Allrounder</td>\n",
              "      <td>0</td>\n",
              "    </tr>\n",
              "    <tr>\n",
              "      <th>74</th>\n",
              "      <td>Ntini, M</td>\n",
              "      <td>2</td>\n",
              "      <td>SA</td>\n",
              "      <td>CSK</td>\n",
              "      <td>Bowler</td>\n",
              "      <td>699</td>\n",
              "    </tr>\n",
              "    <tr>\n",
              "      <th>75</th>\n",
              "      <td>Ojha, NV</td>\n",
              "      <td>2</td>\n",
              "      <td>IND</td>\n",
              "      <td>RR+</td>\n",
              "      <td>W. Keeper</td>\n",
              "      <td>0</td>\n",
              "    </tr>\n",
              "    <tr>\n",
              "      <th>76</th>\n",
              "      <td>Ojha, PP</td>\n",
              "      <td>1</td>\n",
              "      <td>IND</td>\n",
              "      <td>DC+</td>\n",
              "      <td>Bowler</td>\n",
              "      <td>70</td>\n",
              "    </tr>\n",
              "    <tr>\n",
              "      <th>77</th>\n",
              "      <td>Oram, JDP</td>\n",
              "      <td>2</td>\n",
              "      <td>NZ</td>\n",
              "      <td>CSK+</td>\n",
              "      <td>Allrounder</td>\n",
              "      <td>1780</td>\n",
              "    </tr>\n",
              "    <tr>\n",
              "      <th>78</th>\n",
              "      <td>Pankaj Singh</td>\n",
              "      <td>2</td>\n",
              "      <td>IND</td>\n",
              "      <td>RCB+</td>\n",
              "      <td>Bowler</td>\n",
              "      <td>0</td>\n",
              "    </tr>\n",
              "    <tr>\n",
              "      <th>79</th>\n",
              "      <td>Patel, MM</td>\n",
              "      <td>2</td>\n",
              "      <td>IND</td>\n",
              "      <td>RR+</td>\n",
              "      <td>Bowler</td>\n",
              "      <td>60</td>\n",
              "    </tr>\n",
              "    <tr>\n",
              "      <th>80</th>\n",
              "      <td>Patel, PA</td>\n",
              "      <td>2</td>\n",
              "      <td>IND</td>\n",
              "      <td>CSK+</td>\n",
              "      <td>W. Keeper</td>\n",
              "      <td>683</td>\n",
              "    </tr>\n",
              "    <tr>\n",
              "      <th>81</th>\n",
              "      <td>Pathan, IK</td>\n",
              "      <td>2</td>\n",
              "      <td>IND</td>\n",
              "      <td>KXIP+</td>\n",
              "      <td>Allrounder</td>\n",
              "      <td>1105</td>\n",
              "    </tr>\n",
              "    <tr>\n",
              "      <th>82</th>\n",
              "      <td>Pathan, YK</td>\n",
              "      <td>2</td>\n",
              "      <td>IND</td>\n",
              "      <td>RR+</td>\n",
              "      <td>Allrounder</td>\n",
              "      <td>0</td>\n",
              "    </tr>\n",
              "    <tr>\n",
              "      <th>83</th>\n",
              "      <td>Pietersen, KP</td>\n",
              "      <td>2</td>\n",
              "      <td>ENG</td>\n",
              "      <td>RCB+</td>\n",
              "      <td>Batsman</td>\n",
              "      <td>6654</td>\n",
              "    </tr>\n",
              "    <tr>\n",
              "      <th>84</th>\n",
              "      <td>Pollock, SM</td>\n",
              "      <td>3</td>\n",
              "      <td>SA</td>\n",
              "      <td>MI</td>\n",
              "      <td>Allrounder</td>\n",
              "      <td>3781</td>\n",
              "    </tr>\n",
              "    <tr>\n",
              "      <th>85</th>\n",
              "      <td>Pomersbach, LA</td>\n",
              "      <td>2</td>\n",
              "      <td>AUS</td>\n",
              "      <td>KXIP+</td>\n",
              "      <td>Batsman</td>\n",
              "      <td>0</td>\n",
              "    </tr>\n",
              "    <tr>\n",
              "      <th>86</th>\n",
              "      <td>Ponting, RT</td>\n",
              "      <td>3</td>\n",
              "      <td>AUS</td>\n",
              "      <td>KKR</td>\n",
              "      <td>Batsman</td>\n",
              "      <td>13218</td>\n",
              "    </tr>\n",
              "    <tr>\n",
              "      <th>87</th>\n",
              "      <td>Powar, RR</td>\n",
              "      <td>2</td>\n",
              "      <td>IND</td>\n",
              "      <td>KXIP+</td>\n",
              "      <td>Bowler</td>\n",
              "      <td>13</td>\n",
              "    </tr>\n",
              "    <tr>\n",
              "      <th>88</th>\n",
              "      <td>Raina, SK</td>\n",
              "      <td>1</td>\n",
              "      <td>IND</td>\n",
              "      <td>CSK</td>\n",
              "      <td>Batsman</td>\n",
              "      <td>710</td>\n",
              "    </tr>\n",
              "    <tr>\n",
              "      <th>89</th>\n",
              "      <td>Ryder, JD</td>\n",
              "      <td>2</td>\n",
              "      <td>NZ</td>\n",
              "      <td>RCB+</td>\n",
              "      <td>Allrounder</td>\n",
              "      <td>1269</td>\n",
              "    </tr>\n",
              "    <tr>\n",
              "      <th>90</th>\n",
              "      <td>Saha, WP</td>\n",
              "      <td>2</td>\n",
              "      <td>IND</td>\n",
              "      <td>KKR+</td>\n",
              "      <td>W. Keeper</td>\n",
              "      <td>74</td>\n",
              "    </tr>\n",
              "    <tr>\n",
              "      <th>91</th>\n",
              "      <td>Sangakkara, KC</td>\n",
              "      <td>2</td>\n",
              "      <td>SL</td>\n",
              "      <td>KXIP+</td>\n",
              "      <td>W. Keeper</td>\n",
              "      <td>9382</td>\n",
              "    </tr>\n",
              "    <tr>\n",
              "      <th>92</th>\n",
              "      <td>Sarwan, RR</td>\n",
              "      <td>2</td>\n",
              "      <td>WI</td>\n",
              "      <td>KXIP</td>\n",
              "      <td>Batsman</td>\n",
              "      <td>5842</td>\n",
              "    </tr>\n",
              "    <tr>\n",
              "      <th>93</th>\n",
              "      <td>Sehwag, V</td>\n",
              "      <td>2</td>\n",
              "      <td>IND</td>\n",
              "      <td>DD</td>\n",
              "      <td>Batsman</td>\n",
              "      <td>8178</td>\n",
              "    </tr>\n",
              "    <tr>\n",
              "      <th>94</th>\n",
              "      <td>Shahid Afridi</td>\n",
              "      <td>2</td>\n",
              "      <td>PAK</td>\n",
              "      <td>DC</td>\n",
              "      <td>Allrounder</td>\n",
              "      <td>1716</td>\n",
              "    </tr>\n",
              "    <tr>\n",
              "      <th>95</th>\n",
              "      <td>Sharma, I</td>\n",
              "      <td>1</td>\n",
              "      <td>IND</td>\n",
              "      <td>KKR+</td>\n",
              "      <td>Bowler</td>\n",
              "      <td>432</td>\n",
              "    </tr>\n",
              "    <tr>\n",
              "      <th>96</th>\n",
              "      <td>Sharma, J</td>\n",
              "      <td>2</td>\n",
              "      <td>IND</td>\n",
              "      <td>CSK</td>\n",
              "      <td>Allrounder</td>\n",
              "      <td>0</td>\n",
              "    </tr>\n",
              "    <tr>\n",
              "      <th>97</th>\n",
              "      <td>Sharma, RG</td>\n",
              "      <td>1</td>\n",
              "      <td>IND</td>\n",
              "      <td>DC+</td>\n",
              "      <td>Batsman</td>\n",
              "      <td>0</td>\n",
              "    </tr>\n",
              "    <tr>\n",
              "      <th>98</th>\n",
              "      <td>Shoaib Akhtar</td>\n",
              "      <td>3</td>\n",
              "      <td>PAK</td>\n",
              "      <td>KKR</td>\n",
              "      <td>Bowler</td>\n",
              "      <td>544</td>\n",
              "    </tr>\n",
              "    <tr>\n",
              "      <th>99</th>\n",
              "      <td>Shoaib Malik</td>\n",
              "      <td>2</td>\n",
              "      <td>PAK</td>\n",
              "      <td>DD</td>\n",
              "      <td>Allrounder</td>\n",
              "      <td>1606</td>\n",
              "    </tr>\n",
              "  </tbody>\n",
              "</table>\n",
              "</div>"
            ],
            "text/plain": [
              "        PLAYER NAME  AGE COUNTRY   TEAM PLAYING ROLE  T-RUNS\n",
              "50         Kohli, V    1     IND    RCB      Batsman     491\n",
              "51         Kumar, P    1     IND   RCB+       Bowler     149\n",
              "52        Kumble, A    3     IND    RCB       Bowler    2506\n",
              "53   Langeveldt, CK    3      SA   KKR+       Bowler      16\n",
              "54      Laxman, VVS    3     IND    DC+      Batsman    8781\n",
              "55           Lee, B    2     AUS   KXI+       Bowler    1451\n",
              "56     Maharoof, MF    2      SL     DD   Allrounder     556\n",
              "57      Malinga, SL    2      SL     MI       Bowler     275\n",
              "58  Mascarenhas, AD    2     ENG    RR+   Allrounder       0\n",
              "59      Mathews, AD    1      SL   KKR+   Allrounder    1219\n",
              "60     McCullum, BB    2      NZ   KKR+    W. Keeper    3763\n",
              "61     McDonald, AB    2     AUS    DD+   Allrounder     107\n",
              "62      McGrath, GD    3     AUS     DD       Bowler     641\n",
              "63    Misbah-ul-Haq    3     PAK    RCB      Batsman    2173\n",
              "64        Mishra, A    2     IND    DD+       Bowler     392\n",
              "65        Mithun, A    1     IND    RCB       Bowler     120\n",
              "66    Mohammad Asif    2     PAK     DD       Bowler     141\n",
              "67       Morkel, JA    2      SA    CSK   Allrounder      58\n",
              "68        Morkel, M    2      SA    RR+       Bowler     555\n",
              "69  Muralitharan, M    3      SL   CSK+       Bowler    1261\n",
              "70       Nannes, DP    3     AUS    DD+       Bowler       0\n",
              "71        Nayar, AM    2     IND    MI+   Allrounder       0\n",
              "72         Nehra, A    2     IND    DD+       Bowler      77\n",
              "73       Noffke, AA    2     AUS    RCB   Allrounder       0\n",
              "74         Ntini, M    2      SA    CSK       Bowler     699\n",
              "75         Ojha, NV    2     IND    RR+    W. Keeper       0\n",
              "76         Ojha, PP    1     IND    DC+       Bowler      70\n",
              "77        Oram, JDP    2      NZ   CSK+   Allrounder    1780\n",
              "78     Pankaj Singh    2     IND   RCB+       Bowler       0\n",
              "79        Patel, MM    2     IND    RR+       Bowler      60\n",
              "80        Patel, PA    2     IND   CSK+    W. Keeper     683\n",
              "81       Pathan, IK    2     IND  KXIP+   Allrounder    1105\n",
              "82       Pathan, YK    2     IND    RR+   Allrounder       0\n",
              "83    Pietersen, KP    2     ENG   RCB+      Batsman    6654\n",
              "84      Pollock, SM    3      SA     MI   Allrounder    3781\n",
              "85   Pomersbach, LA    2     AUS  KXIP+      Batsman       0\n",
              "86      Ponting, RT    3     AUS    KKR      Batsman   13218\n",
              "87        Powar, RR    2     IND  KXIP+       Bowler      13\n",
              "88        Raina, SK    1     IND    CSK      Batsman     710\n",
              "89        Ryder, JD    2      NZ   RCB+   Allrounder    1269\n",
              "90         Saha, WP    2     IND   KKR+    W. Keeper      74\n",
              "91   Sangakkara, KC    2      SL  KXIP+    W. Keeper    9382\n",
              "92       Sarwan, RR    2      WI   KXIP      Batsman    5842\n",
              "93        Sehwag, V    2     IND     DD      Batsman    8178\n",
              "94    Shahid Afridi    2     PAK     DC   Allrounder    1716\n",
              "95        Sharma, I    1     IND   KKR+       Bowler     432\n",
              "96        Sharma, J    2     IND    CSK   Allrounder       0\n",
              "97       Sharma, RG    1     IND    DC+      Batsman       0\n",
              "98    Shoaib Akhtar    3     PAK    KKR       Bowler     544\n",
              "99     Shoaib Malik    2     PAK     DD   Allrounder    1606"
            ]
          },
          "metadata": {
            "tags": []
          },
          "execution_count": 19
        }
      ]
    },
    {
      "cell_type": "markdown",
      "metadata": {
        "id": "rMsybEZGNCqc"
      },
      "source": [
        "**Cross-tabulation between two columns**"
      ]
    },
    {
      "cell_type": "code",
      "metadata": {
        "id": "pLYBOe3RNC53",
        "colab": {
          "base_uri": "https://localhost:8080/",
          "height": 172
        },
        "outputId": "94e69790-6362-4c45-e62d-cb4fdc060d82"
      },
      "source": [
        "pd.crosstab( ipl_df['AGE'], ipl_df['PLAYING ROLE'] )"
      ],
      "execution_count": null,
      "outputs": [
        {
          "output_type": "execute_result",
          "data": {
            "text/html": [
              "<div>\n",
              "<style scoped>\n",
              "    .dataframe tbody tr th:only-of-type {\n",
              "        vertical-align: middle;\n",
              "    }\n",
              "\n",
              "    .dataframe tbody tr th {\n",
              "        vertical-align: top;\n",
              "    }\n",
              "\n",
              "    .dataframe thead th {\n",
              "        text-align: right;\n",
              "    }\n",
              "</style>\n",
              "<table border=\"1\" class=\"dataframe\">\n",
              "  <thead>\n",
              "    <tr style=\"text-align: right;\">\n",
              "      <th>PLAYING ROLE</th>\n",
              "      <th>Allrounder</th>\n",
              "      <th>Batsman</th>\n",
              "      <th>Bowler</th>\n",
              "      <th>W. Keeper</th>\n",
              "    </tr>\n",
              "    <tr>\n",
              "      <th>AGE</th>\n",
              "      <th></th>\n",
              "      <th></th>\n",
              "      <th></th>\n",
              "      <th></th>\n",
              "    </tr>\n",
              "  </thead>\n",
              "  <tbody>\n",
              "    <tr>\n",
              "      <th>1</th>\n",
              "      <td>4</td>\n",
              "      <td>5</td>\n",
              "      <td>7</td>\n",
              "      <td>0</td>\n",
              "    </tr>\n",
              "    <tr>\n",
              "      <th>2</th>\n",
              "      <td>25</td>\n",
              "      <td>21</td>\n",
              "      <td>29</td>\n",
              "      <td>11</td>\n",
              "    </tr>\n",
              "    <tr>\n",
              "      <th>3</th>\n",
              "      <td>6</td>\n",
              "      <td>13</td>\n",
              "      <td>8</td>\n",
              "      <td>1</td>\n",
              "    </tr>\n",
              "  </tbody>\n",
              "</table>\n",
              "</div>"
            ],
            "text/plain": [
              "PLAYING ROLE  Allrounder  Batsman  Bowler  W. Keeper\n",
              "AGE                                                 \n",
              "1                      4        5       7          0\n",
              "2                     25       21      29         11\n",
              "3                      6       13       8          1"
            ]
          },
          "metadata": {
            "tags": []
          },
          "execution_count": 21
        }
      ]
    },
    {
      "cell_type": "markdown",
      "metadata": {
        "id": "_3lit1o3Nf7Q"
      },
      "source": [
        "**Creating new columns**\n",
        "**Which player got the maximum premium on the base price?**"
      ]
    },
    {
      "cell_type": "code",
      "metadata": {
        "id": "HJ_ATSylNrS5",
        "colab": {
          "base_uri": "https://localhost:8080/",
          "height": 203
        },
        "outputId": "3e3855f3-06cf-4614-898a-d9b5a66a5a86"
      },
      "source": [
        "ipl_df['premium'] = ipl_df['SOLD PRICE'] - ipl_df['BASE PRICE']\n",
        "ipl_df[['PLAYER NAME', 'BASE PRICE', 'SOLD PRICE', 'premium']][0:5]"
      ],
      "execution_count": null,
      "outputs": [
        {
          "output_type": "execute_result",
          "data": {
            "text/html": [
              "<div>\n",
              "<style scoped>\n",
              "    .dataframe tbody tr th:only-of-type {\n",
              "        vertical-align: middle;\n",
              "    }\n",
              "\n",
              "    .dataframe tbody tr th {\n",
              "        vertical-align: top;\n",
              "    }\n",
              "\n",
              "    .dataframe thead th {\n",
              "        text-align: right;\n",
              "    }\n",
              "</style>\n",
              "<table border=\"1\" class=\"dataframe\">\n",
              "  <thead>\n",
              "    <tr style=\"text-align: right;\">\n",
              "      <th></th>\n",
              "      <th>PLAYER NAME</th>\n",
              "      <th>BASE PRICE</th>\n",
              "      <th>SOLD PRICE</th>\n",
              "      <th>premium</th>\n",
              "    </tr>\n",
              "  </thead>\n",
              "  <tbody>\n",
              "    <tr>\n",
              "      <th>0</th>\n",
              "      <td>Abdulla, YA</td>\n",
              "      <td>50000</td>\n",
              "      <td>50000</td>\n",
              "      <td>0</td>\n",
              "    </tr>\n",
              "    <tr>\n",
              "      <th>1</th>\n",
              "      <td>Abdur Razzak</td>\n",
              "      <td>50000</td>\n",
              "      <td>50000</td>\n",
              "      <td>0</td>\n",
              "    </tr>\n",
              "    <tr>\n",
              "      <th>2</th>\n",
              "      <td>Agarkar, AB</td>\n",
              "      <td>200000</td>\n",
              "      <td>350000</td>\n",
              "      <td>150000</td>\n",
              "    </tr>\n",
              "    <tr>\n",
              "      <th>3</th>\n",
              "      <td>Ashwin, R</td>\n",
              "      <td>100000</td>\n",
              "      <td>850000</td>\n",
              "      <td>750000</td>\n",
              "    </tr>\n",
              "    <tr>\n",
              "      <th>4</th>\n",
              "      <td>Badrinath, S</td>\n",
              "      <td>100000</td>\n",
              "      <td>800000</td>\n",
              "      <td>700000</td>\n",
              "    </tr>\n",
              "  </tbody>\n",
              "</table>\n",
              "</div>"
            ],
            "text/plain": [
              "    PLAYER NAME  BASE PRICE  SOLD PRICE  premium\n",
              "0   Abdulla, YA       50000       50000        0\n",
              "1  Abdur Razzak       50000       50000        0\n",
              "2   Agarkar, AB      200000      350000   150000\n",
              "3     Ashwin, R      100000      850000   750000\n",
              "4  Badrinath, S      100000      800000   700000"
            ]
          },
          "metadata": {
            "tags": []
          },
          "execution_count": 22
        }
      ]
    },
    {
      "cell_type": "code",
      "metadata": {
        "id": "7mHYWLf3OCL0",
        "colab": {
          "base_uri": "https://localhost:8080/",
          "height": 357
        },
        "outputId": "39c4381e-d648-4b99-d6fe-94c69c1bfa86"
      },
      "source": [
        "ipl_df[['PLAYER NAME','BASE PRICE','SOLD PRICE', 'premium']].sort_values('premium',ascending = False)[0:10]\n"
      ],
      "execution_count": null,
      "outputs": [
        {
          "output_type": "execute_result",
          "data": {
            "text/html": [
              "<div>\n",
              "<style scoped>\n",
              "    .dataframe tbody tr th:only-of-type {\n",
              "        vertical-align: middle;\n",
              "    }\n",
              "\n",
              "    .dataframe tbody tr th {\n",
              "        vertical-align: top;\n",
              "    }\n",
              "\n",
              "    .dataframe thead th {\n",
              "        text-align: right;\n",
              "    }\n",
              "</style>\n",
              "<table border=\"1\" class=\"dataframe\">\n",
              "  <thead>\n",
              "    <tr style=\"text-align: right;\">\n",
              "      <th></th>\n",
              "      <th>PLAYER NAME</th>\n",
              "      <th>BASE PRICE</th>\n",
              "      <th>SOLD PRICE</th>\n",
              "      <th>premium</th>\n",
              "    </tr>\n",
              "  </thead>\n",
              "  <tbody>\n",
              "    <tr>\n",
              "      <th>50</th>\n",
              "      <td>Kohli, V</td>\n",
              "      <td>150000</td>\n",
              "      <td>1800000</td>\n",
              "      <td>1650000</td>\n",
              "    </tr>\n",
              "    <tr>\n",
              "      <th>113</th>\n",
              "      <td>Tiwary, SS</td>\n",
              "      <td>100000</td>\n",
              "      <td>1600000</td>\n",
              "      <td>1500000</td>\n",
              "    </tr>\n",
              "    <tr>\n",
              "      <th>127</th>\n",
              "      <td>Yuvraj Singh</td>\n",
              "      <td>400000</td>\n",
              "      <td>1800000</td>\n",
              "      <td>1400000</td>\n",
              "    </tr>\n",
              "    <tr>\n",
              "      <th>111</th>\n",
              "      <td>Tendulkar, SR</td>\n",
              "      <td>400000</td>\n",
              "      <td>1800000</td>\n",
              "      <td>1400000</td>\n",
              "    </tr>\n",
              "    <tr>\n",
              "      <th>93</th>\n",
              "      <td>Sehwag, V</td>\n",
              "      <td>400000</td>\n",
              "      <td>1800000</td>\n",
              "      <td>1400000</td>\n",
              "    </tr>\n",
              "    <tr>\n",
              "      <th>108</th>\n",
              "      <td>Symonds, A</td>\n",
              "      <td>250000</td>\n",
              "      <td>1350000</td>\n",
              "      <td>1100000</td>\n",
              "    </tr>\n",
              "    <tr>\n",
              "      <th>15</th>\n",
              "      <td>Dhoni, MS</td>\n",
              "      <td>400000</td>\n",
              "      <td>1500000</td>\n",
              "      <td>1100000</td>\n",
              "    </tr>\n",
              "    <tr>\n",
              "      <th>39</th>\n",
              "      <td>Jadeja, RA</td>\n",
              "      <td>100000</td>\n",
              "      <td>950000</td>\n",
              "      <td>850000</td>\n",
              "    </tr>\n",
              "    <tr>\n",
              "      <th>95</th>\n",
              "      <td>Sharma, I</td>\n",
              "      <td>150000</td>\n",
              "      <td>950000</td>\n",
              "      <td>800000</td>\n",
              "    </tr>\n",
              "    <tr>\n",
              "      <th>3</th>\n",
              "      <td>Ashwin, R</td>\n",
              "      <td>100000</td>\n",
              "      <td>850000</td>\n",
              "      <td>750000</td>\n",
              "    </tr>\n",
              "  </tbody>\n",
              "</table>\n",
              "</div>"
            ],
            "text/plain": [
              "       PLAYER NAME  BASE PRICE  SOLD PRICE  premium\n",
              "50        Kohli, V      150000     1800000  1650000\n",
              "113     Tiwary, SS      100000     1600000  1500000\n",
              "127   Yuvraj Singh      400000     1800000  1400000\n",
              "111  Tendulkar, SR      400000     1800000  1400000\n",
              "93       Sehwag, V      400000     1800000  1400000\n",
              "108     Symonds, A      250000     1350000  1100000\n",
              "15       Dhoni, MS      400000     1500000  1100000\n",
              "39      Jadeja, RA      100000      950000   850000\n",
              "95       Sharma, I      150000      950000   800000\n",
              "3        Ashwin, R      100000      850000   750000"
            ]
          },
          "metadata": {
            "tags": []
          },
          "execution_count": 31
        }
      ]
    },
    {
      "cell_type": "markdown",
      "metadata": {
        "id": "DHoC_JKoOrT3"
      },
      "source": [
        "**Drawing Plots**"
      ]
    },
    {
      "cell_type": "code",
      "metadata": {
        "id": "T-twVMh7OtY0"
      },
      "source": [
        "import matplotlib.pyplot as plt\n",
        "import numpy as np\n",
        "import seaborn as sn\n",
        "%matplotlib inline"
      ],
      "execution_count": null,
      "outputs": []
    },
    {
      "cell_type": "code",
      "metadata": {
        "id": "3NoVenV3O0IL"
      },
      "source": [
        "import warnings\n",
        "warnings.filterwarnings('ignore')"
      ],
      "execution_count": null,
      "outputs": []
    },
    {
      "cell_type": "code",
      "metadata": {
        "id": "Fw--1KzFBpOn",
        "colab": {
          "base_uri": "https://localhost:8080/",
          "height": 294
        },
        "outputId": "0ae6d2ce-701d-48af-ee9f-60e25e22dd3c"
      },
      "source": [
        "plt.bar(ipl_df['AGE'],ipl_df['SOLD PRICE'])"
      ],
      "execution_count": null,
      "outputs": [
        {
          "output_type": "execute_result",
          "data": {
            "text/plain": [
              "<BarContainer object of 130 artists>"
            ]
          },
          "metadata": {
            "tags": []
          },
          "execution_count": 38
        },
        {
          "output_type": "display_data",
          "data": {
            "image/png": "[encoded data removed]",
            "text/plain": [
              "<Figure size 432x288 with 1 Axes>"
            ]
          },
          "metadata": {
            "tags": [],
            "needs_background": "light"
          }
        }
      ]
    },
    {
      "cell_type": "code",
      "metadata": {
        "id": "-mZ0OFNfRMEG",
        "colab": {
          "base_uri": "https://localhost:8080/",
          "height": 167
        },
        "outputId": "71b44514-2a8d-4731-c423-e330afc34d79"
      },
      "source": [
        "plt.barplot(ipl_df['PLAYER ROLE'],ipl_df['SOLD PRICE'])"
      ],
      "execution_count": null,
      "outputs": [
        {
          "output_type": "error",
          "ename": "AttributeError",
          "evalue": "ignored",
          "traceback": [
            "\u001b[0;31m---------------------------------------------------------------------------\u001b[0m",
            "\u001b[0;31mAttributeError\u001b[0m                            Traceback (most recent call last)",
            "\u001b[0;32m<ipython-input-47-fe12cbc92be7>\u001b[0m in \u001b[0;36m<module>\u001b[0;34m()\u001b[0m\n\u001b[0;32m----> 1\u001b[0;31m \u001b[0mplt\u001b[0m\u001b[0;34m.\u001b[0m\u001b[0mbarplot\u001b[0m\u001b[0;34m(\u001b[0m\u001b[0mipl_df\u001b[0m\u001b[0;34m[\u001b[0m\u001b[0;34m'PLAYER ROLE'\u001b[0m\u001b[0;34m]\u001b[0m\u001b[0;34m,\u001b[0m\u001b[0mipl_df\u001b[0m\u001b[0;34m[\u001b[0m\u001b[0;34m'SOLD PRICE'\u001b[0m\u001b[0;34m]\u001b[0m\u001b[0;34m)\u001b[0m\u001b[0;34m\u001b[0m\u001b[0;34m\u001b[0m\u001b[0m\n\u001b[0m",
            "\u001b[0;31mAttributeError\u001b[0m: module 'matplotlib.pyplot' has no attribute 'barplot'"
          ]
        }
      ]
    },
    {
      "cell_type": "markdown",
      "metadata": {
        "id": "naZzL8gLQHHV"
      },
      "source": [
        "Histogram"
      ]
    },
    {
      "cell_type": "code",
      "metadata": {
        "id": "Ni9edo-3QJ23",
        "colab": {
          "base_uri": "https://localhost:8080/",
          "height": 278
        },
        "outputId": "f01a9e9d-0e8a-4edf-a6f2-3e5491cd3cb1"
      },
      "source": [
        "plt.hist( ipl_df['SOLD PRICE'] );"
      ],
      "execution_count": null,
      "outputs": [
        {
          "output_type": "display_data",
          "data": {
            "image/png": "[encoded data removed]",
            "text/plain": [
              "<Figure size 432x288 with 1 Axes>"
            ]
          },
          "metadata": {
            "tags": [],
            "needs_background": "light"
          }
        }
      ]
    },
    {
      "cell_type": "code",
      "metadata": {
        "id": "j0HcjDPjQW0n",
        "colab": {
          "base_uri": "https://localhost:8080/",
          "height": 278
        },
        "outputId": "0a743f1b-1b75-4d55-dcd5-c2e8dfb01651"
      },
      "source": [
        "plt.hist( ipl_df['SOLD PRICE'], bins = 20 );"
      ],
      "execution_count": null,
      "outputs": [
        {
          "output_type": "display_data",
          "data": {
            "image/png": "[encoded data removed]",
            "text/plain": [
              "<Figure size 432x288 with 1 Axes>"
            ]
          },
          "metadata": {
            "tags": [],
            "needs_background": "light"
          }
        }
      ]
    },
    {
      "cell_type": "code",
      "metadata": {
        "id": "U7kn86t0QeRY",
        "colab": {
          "base_uri": "https://localhost:8080/",
          "height": 290
        },
        "outputId": "335351c6-83fe-4d08-ccd8-79bb361e4a0c"
      },
      "source": [
        "sn.distplot( ipl_df['SOLD PRICE']),( ipl_df['BASE PRICE']);"
      ],
      "execution_count": null,
      "outputs": [
        {
          "output_type": "display_data",
          "data": {
            "image/png": "[encoded data removed]",
            "text/plain": [
              "<Figure size 432x288 with 1 Axes>"
            ]
          },
          "metadata": {
            "tags": [],
            "needs_background": "light"
          }
        }
      ]
    },
    {
      "cell_type": "code",
      "metadata": {
        "id": "jDQhzm6yQ2EL",
        "colab": {
          "base_uri": "https://localhost:8080/",
          "height": 279
        },
        "outputId": "ac44feba-52fd-473e-f13e-52e15c076af0"
      },
      "source": [
        "box = sn.boxplot(ipl_df['SOLD PRICE']);"
      ],
      "execution_count": null,
      "outputs": [
        {
          "output_type": "display_data",
          "data": {
            "image/png": "[encoded data removed]",
            "text/plain": [
              "<Figure size 432x288 with 1 Axes>"
            ]
          },
          "metadata": {
            "tags": [],
            "needs_background": "light"
          }
        }
      ]
    },
    {
      "cell_type": "code",
      "metadata": {
        "id": "9gpGd07QQ81V",
        "colab": {
          "base_uri": "https://localhost:8080/",
          "height": 290
        },
        "outputId": "2d6deef2-20ae-4693-9dce-ce420093eb68"
      },
      "source": [
        "sn.boxplot(x = 'PLAYING ROLE', y = 'SOLD PRICE', data = ipl_df);"
      ],
      "execution_count": null,
      "outputs": [
        {
          "output_type": "display_data",
          "data": {
            "image/png": "[encoded data removed]",
            "text/plain": [
              "<Figure size 432x288 with 1 Axes>"
            ]
          },
          "metadata": {
            "tags": [],
            "needs_background": "light"
          }
        }
      ]
    },
    {
      "cell_type": "markdown",
      "metadata": {
        "id": "vieKKhr8TfiO"
      },
      "source": [
        "Correlations and Heatmaps"
      ]
    },
    {
      "cell_type": "code",
      "metadata": {
        "id": "p-bNaTmBTrgN"
      },
      "source": [
        "influential_features = ['SR-B', 'AVE', 'SIXERS', 'SOLD PRICE']"
      ],
      "execution_count": null,
      "outputs": []
    },
    {
      "cell_type": "code",
      "metadata": {
        "id": "HEuSzYxJTgjm",
        "colab": {
          "base_uri": "https://localhost:8080/",
          "height": 172
        },
        "outputId": "f273a54a-a43f-4e1a-805f-c8370bbd7063"
      },
      "source": [
        "ipl_df[influential_features].corr()"
      ],
      "execution_count": null,
      "outputs": [
        {
          "output_type": "execute_result",
          "data": {
            "text/html": [
              "<div>\n",
              "<style scoped>\n",
              "    .dataframe tbody tr th:only-of-type {\n",
              "        vertical-align: middle;\n",
              "    }\n",
              "\n",
              "    .dataframe tbody tr th {\n",
              "        vertical-align: top;\n",
              "    }\n",
              "\n",
              "    .dataframe thead th {\n",
              "        text-align: right;\n",
              "    }\n",
              "</style>\n",
              "<table border=\"1\" class=\"dataframe\">\n",
              "  <thead>\n",
              "    <tr style=\"text-align: right;\">\n",
              "      <th></th>\n",
              "      <th>SR-B</th>\n",
              "      <th>AVE</th>\n",
              "      <th>SIXERS</th>\n",
              "      <th>SOLD PRICE</th>\n",
              "    </tr>\n",
              "  </thead>\n",
              "  <tbody>\n",
              "    <tr>\n",
              "      <th>SR-B</th>\n",
              "      <td>1.000000</td>\n",
              "      <td>0.583579</td>\n",
              "      <td>0.425394</td>\n",
              "      <td>0.184278</td>\n",
              "    </tr>\n",
              "    <tr>\n",
              "      <th>AVE</th>\n",
              "      <td>0.583579</td>\n",
              "      <td>1.000000</td>\n",
              "      <td>0.705365</td>\n",
              "      <td>0.396519</td>\n",
              "    </tr>\n",
              "    <tr>\n",
              "      <th>SIXERS</th>\n",
              "      <td>0.425394</td>\n",
              "      <td>0.705365</td>\n",
              "      <td>1.000000</td>\n",
              "      <td>0.450609</td>\n",
              "    </tr>\n",
              "    <tr>\n",
              "      <th>SOLD PRICE</th>\n",
              "      <td>0.184278</td>\n",
              "      <td>0.396519</td>\n",
              "      <td>0.450609</td>\n",
              "      <td>1.000000</td>\n",
              "    </tr>\n",
              "  </tbody>\n",
              "</table>\n",
              "</div>"
            ],
            "text/plain": [
              "                SR-B       AVE    SIXERS  SOLD PRICE\n",
              "SR-B        1.000000  0.583579  0.425394    0.184278\n",
              "AVE         0.583579  1.000000  0.705365    0.396519\n",
              "SIXERS      0.425394  0.705365  1.000000    0.450609\n",
              "SOLD PRICE  0.184278  0.396519  0.450609    1.000000"
            ]
          },
          "metadata": {
            "tags": []
          },
          "execution_count": 59
        }
      ]
    },
    {
      "cell_type": "code",
      "metadata": {
        "id": "Q6fSzPzHTvJ2",
        "colab": {
          "base_uri": "https://localhost:8080/",
          "height": 280
        },
        "outputId": "ec744306-342e-481d-b706-a3ce69955a85"
      },
      "source": [
        "sn.heatmap(ipl_df[influential_features].corr(), annot=True);"
      ],
      "execution_count": null,
      "outputs": [
        {
          "output_type": "display_data",
          "data": {
            "image/png": "[encoded data removed]",
            "text/plain": [
              "<Figure size 432x288 with 2 Axes>"
            ]
          },
          "metadata": {
            "tags": [],
            "needs_background": "light"
          }
        }
      ]
    }
  ]
}